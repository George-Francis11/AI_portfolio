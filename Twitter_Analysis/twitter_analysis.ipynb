{
 "cells": [
  {
   "cell_type": "code",
   "execution_count": 24,
   "id": "feca418d-26da-4b1c-a4b5-dfcf3fe4c3f6",
   "metadata": {
    "tags": []
   },
   "outputs": [],
   "source": [
    "import re\n",
    "import pandas as pd\n",
    "import numpy as np\n",
    "import matplotlib.pyplot as plt\n",
    "import seaborn as sns\n",
    "import string\n",
    "import nltk\n",
    "import warnings\n",
    "warnings.filterwarnings(\"ignore\",category = DeprecationWarning)\n",
    "%matplotlib inline\n"
   ]
  },
  {
   "cell_type": "markdown",
   "id": "97a6bc88-998b-4549-99a4-fdd2f2d7ffe0",
   "metadata": {},
   "source": [
    "Read both datasets, train and test sets from the csv files provided"
   ]
  },
  {
   "cell_type": "code",
   "execution_count": 2,
   "id": "f2c79095-58b0-456e-abc6-cab60f607a38",
   "metadata": {},
   "outputs": [],
   "source": [
    "train = pd.read_csv(\"train.csv\")\n",
    "test = pd.read_csv(\"test.csv\")"
   ]
  },
  {
   "cell_type": "markdown",
   "id": "4d2c9306-2886-43b4-a4d0-3f2ad794977b",
   "metadata": {},
   "source": [
    "Displays the top 5 rows in the train to understand how the dataset is structured"
   ]
  },
  {
   "cell_type": "code",
   "execution_count": 3,
   "id": "68fb751a-09de-439a-9bec-2a8b30f4af38",
   "metadata": {},
   "outputs": [
    {
     "data": {
      "text/html": [
       "<div>\n",
       "<style scoped>\n",
       "    .dataframe tbody tr th:only-of-type {\n",
       "        vertical-align: middle;\n",
       "    }\n",
       "\n",
       "    .dataframe tbody tr th {\n",
       "        vertical-align: top;\n",
       "    }\n",
       "\n",
       "    .dataframe thead th {\n",
       "        text-align: right;\n",
       "    }\n",
       "</style>\n",
       "<table border=\"1\" class=\"dataframe\">\n",
       "  <thead>\n",
       "    <tr style=\"text-align: right;\">\n",
       "      <th></th>\n",
       "      <th>id</th>\n",
       "      <th>label</th>\n",
       "      <th>tweet</th>\n",
       "    </tr>\n",
       "  </thead>\n",
       "  <tbody>\n",
       "    <tr>\n",
       "      <th>0</th>\n",
       "      <td>1</td>\n",
       "      <td>0</td>\n",
       "      <td>@user when a father is dysfunctional and is s...</td>\n",
       "    </tr>\n",
       "    <tr>\n",
       "      <th>1</th>\n",
       "      <td>2</td>\n",
       "      <td>0</td>\n",
       "      <td>@user @user thanks for #lyft credit i can't us...</td>\n",
       "    </tr>\n",
       "    <tr>\n",
       "      <th>2</th>\n",
       "      <td>3</td>\n",
       "      <td>0</td>\n",
       "      <td>bihday your majesty</td>\n",
       "    </tr>\n",
       "    <tr>\n",
       "      <th>3</th>\n",
       "      <td>4</td>\n",
       "      <td>0</td>\n",
       "      <td>#model   i love u take with u all the time in ...</td>\n",
       "    </tr>\n",
       "    <tr>\n",
       "      <th>4</th>\n",
       "      <td>5</td>\n",
       "      <td>0</td>\n",
       "      <td>factsguide: society now    #motivation</td>\n",
       "    </tr>\n",
       "  </tbody>\n",
       "</table>\n",
       "</div>"
      ],
      "text/plain": [
       "   id  label                                              tweet\n",
       "0   1      0   @user when a father is dysfunctional and is s...\n",
       "1   2      0  @user @user thanks for #lyft credit i can't us...\n",
       "2   3      0                                bihday your majesty\n",
       "3   4      0  #model   i love u take with u all the time in ...\n",
       "4   5      0             factsguide: society now    #motivation"
      ]
     },
     "execution_count": 3,
     "metadata": {},
     "output_type": "execute_result"
    }
   ],
   "source": [
    "train.head()"
   ]
  },
  {
   "cell_type": "markdown",
   "id": "780b7d8c-2085-4c8e-bce0-e4e353e85625",
   "metadata": {},
   "source": [
    "Displays the top 5 rows in the set to understand how the dataset is structured"
   ]
  },
  {
   "cell_type": "code",
   "execution_count": 4,
   "id": "1f55b7db-443a-4152-8a96-e4dc68a00089",
   "metadata": {},
   "outputs": [
    {
     "data": {
      "text/html": [
       "<div>\n",
       "<style scoped>\n",
       "    .dataframe tbody tr th:only-of-type {\n",
       "        vertical-align: middle;\n",
       "    }\n",
       "\n",
       "    .dataframe tbody tr th {\n",
       "        vertical-align: top;\n",
       "    }\n",
       "\n",
       "    .dataframe thead th {\n",
       "        text-align: right;\n",
       "    }\n",
       "</style>\n",
       "<table border=\"1\" class=\"dataframe\">\n",
       "  <thead>\n",
       "    <tr style=\"text-align: right;\">\n",
       "      <th></th>\n",
       "      <th>id</th>\n",
       "      <th>tweet</th>\n",
       "    </tr>\n",
       "  </thead>\n",
       "  <tbody>\n",
       "    <tr>\n",
       "      <th>0</th>\n",
       "      <td>31963</td>\n",
       "      <td>#studiolife #aislife #requires #passion #dedic...</td>\n",
       "    </tr>\n",
       "    <tr>\n",
       "      <th>1</th>\n",
       "      <td>31964</td>\n",
       "      <td>@user #white #supremacists want everyone to s...</td>\n",
       "    </tr>\n",
       "    <tr>\n",
       "      <th>2</th>\n",
       "      <td>31965</td>\n",
       "      <td>safe ways to heal your #acne!!    #altwaystohe...</td>\n",
       "    </tr>\n",
       "    <tr>\n",
       "      <th>3</th>\n",
       "      <td>31966</td>\n",
       "      <td>is the hp and the cursed child book up for res...</td>\n",
       "    </tr>\n",
       "    <tr>\n",
       "      <th>4</th>\n",
       "      <td>31967</td>\n",
       "      <td>3rd #bihday to my amazing, hilarious #nephew...</td>\n",
       "    </tr>\n",
       "  </tbody>\n",
       "</table>\n",
       "</div>"
      ],
      "text/plain": [
       "      id                                              tweet\n",
       "0  31963  #studiolife #aislife #requires #passion #dedic...\n",
       "1  31964   @user #white #supremacists want everyone to s...\n",
       "2  31965  safe ways to heal your #acne!!    #altwaystohe...\n",
       "3  31966  is the hp and the cursed child book up for res...\n",
       "4  31967    3rd #bihday to my amazing, hilarious #nephew..."
      ]
     },
     "execution_count": 4,
     "metadata": {},
     "output_type": "execute_result"
    }
   ],
   "source": [
    "test.head()"
   ]
  },
  {
   "cell_type": "markdown",
   "id": "b83c1ea1-b178-40fb-be23-c6c7f4061de0",
   "metadata": {},
   "source": [
    "add both sets together to be able to preprocess them all in one place instead of doing the same preproccessing the seperately"
   ]
  },
  {
   "cell_type": "code",
   "execution_count": 5,
   "id": "dac3d592-8261-4164-978b-d756c23c5fe6",
   "metadata": {},
   "outputs": [],
   "source": [
    "combination = train.append(test,ignore_index=True)"
   ]
  },
  {
   "cell_type": "code",
   "execution_count": 6,
   "id": "dd0c4dcf-d197-49a4-9f47-2cfd8e3e25a4",
   "metadata": {},
   "outputs": [
    {
     "data": {
      "text/html": [
       "<div>\n",
       "<style scoped>\n",
       "    .dataframe tbody tr th:only-of-type {\n",
       "        vertical-align: middle;\n",
       "    }\n",
       "\n",
       "    .dataframe tbody tr th {\n",
       "        vertical-align: top;\n",
       "    }\n",
       "\n",
       "    .dataframe thead th {\n",
       "        text-align: right;\n",
       "    }\n",
       "</style>\n",
       "<table border=\"1\" class=\"dataframe\">\n",
       "  <thead>\n",
       "    <tr style=\"text-align: right;\">\n",
       "      <th></th>\n",
       "      <th>id</th>\n",
       "      <th>label</th>\n",
       "      <th>tweet</th>\n",
       "    </tr>\n",
       "  </thead>\n",
       "  <tbody>\n",
       "    <tr>\n",
       "      <th>0</th>\n",
       "      <td>1</td>\n",
       "      <td>0.0</td>\n",
       "      <td>@user when a father is dysfunctional and is s...</td>\n",
       "    </tr>\n",
       "    <tr>\n",
       "      <th>1</th>\n",
       "      <td>2</td>\n",
       "      <td>0.0</td>\n",
       "      <td>@user @user thanks for #lyft credit i can't us...</td>\n",
       "    </tr>\n",
       "    <tr>\n",
       "      <th>2</th>\n",
       "      <td>3</td>\n",
       "      <td>0.0</td>\n",
       "      <td>bihday your majesty</td>\n",
       "    </tr>\n",
       "    <tr>\n",
       "      <th>3</th>\n",
       "      <td>4</td>\n",
       "      <td>0.0</td>\n",
       "      <td>#model   i love u take with u all the time in ...</td>\n",
       "    </tr>\n",
       "    <tr>\n",
       "      <th>4</th>\n",
       "      <td>5</td>\n",
       "      <td>0.0</td>\n",
       "      <td>factsguide: society now    #motivation</td>\n",
       "    </tr>\n",
       "  </tbody>\n",
       "</table>\n",
       "</div>"
      ],
      "text/plain": [
       "   id  label                                              tweet\n",
       "0   1    0.0   @user when a father is dysfunctional and is s...\n",
       "1   2    0.0  @user @user thanks for #lyft credit i can't us...\n",
       "2   3    0.0                                bihday your majesty\n",
       "3   4    0.0  #model   i love u take with u all the time in ...\n",
       "4   5    0.0             factsguide: society now    #motivation"
      ]
     },
     "execution_count": 6,
     "metadata": {},
     "output_type": "execute_result"
    }
   ],
   "source": [
    "combination.head()"
   ]
  },
  {
   "cell_type": "markdown",
   "id": "640784a1-baf1-4842-984b-c49edea3a279",
   "metadata": {},
   "source": [
    "delete_substr is a function that finds all the strings that contain a specific substring and delete this substring\n",
    "it uses regular expressions to simplify the code instead of writing a full substring finding algorithm"
   ]
  },
  {
   "cell_type": "code",
   "execution_count": 7,
   "id": "19fef655-1f6b-46e5-a824-cb42639a40e7",
   "metadata": {},
   "outputs": [],
   "source": [
    "def delete_substr(string, substr):\n",
    "    changes = re.findall(substr,string)\n",
    "    for word in changes:\n",
    "        string = re.sub(word,\"\",string)\n",
    "    return string"
   ]
  },
  {
   "cell_type": "markdown",
   "id": "ecd60267-9b1e-49a0-b89b-8271cd8bab46",
   "metadata": {},
   "source": [
    "The following three lines of code, they create a new column in the data set called \"cleaned tweet\" where the cleaned text will be saved during the preprocessing phase"
   ]
  },
  {
   "cell_type": "markdown",
   "id": "b611c5dc-b185-44c5-bd69-e5d4dc9469b2",
   "metadata": {},
   "source": [
    "The first line, deletes all the words that contain the symbol @ followed by any number letters or as written in the regex, $W^*$\n",
    "this is done by using the function numpy.vectorize, which takes each row in the dataset and performs a function on it. this function will be delete_substring() that we defined before. passing the field tweet specifically to this function as the string and the reguler expression $@(W)*$ as the substring. so all the tweets that contains any mentions to other accounts, the model will delete these mentions"
   ]
  },
  {
   "cell_type": "code",
   "execution_count": 8,
   "id": "d001995e-01bd-4347-9d36-072993994343",
   "metadata": {},
   "outputs": [],
   "source": [
    "combination[\"cleaned tweet\"] = np.vectorize(delete_substr)(combination[\"tweet\"], \"@[\\w]*\")"
   ]
  },
  {
   "cell_type": "markdown",
   "id": "d742b31e-1934-4a83-8c25-c657fb32cc32",
   "metadata": {},
   "source": [
    "This line removes all the punctuation symbols from the tweets. this is done by taking the cleaned tweet field that was initalized in the last line,\n",
    "then it searchs for each symbol using a regular expression, and it replaces each symbol with an empty string, thus, deleting it"
   ]
  },
  {
   "cell_type": "code",
   "execution_count": 9,
   "id": "ca5d34a9-c361-4fbc-9e26-0f4535d61b65",
   "metadata": {},
   "outputs": [],
   "source": [
    "combination[\"cleaned tweet\"] = combination[\"cleaned tweet\"].str.replace(\"[^a-zA-Z#]\",\" \",regex = True)"
   ]
  },
  {
   "cell_type": "markdown",
   "id": "a8f9809d-1e97-4d95-9a5f-343f8d8ed12b",
   "metadata": {},
   "source": [
    "This line splits the clean tweet and then collect them again but it ignores all the words with length less than four. since they are considered as stopping words that will only hinder the performance of the model"
   ]
  },
  {
   "cell_type": "code",
   "execution_count": 10,
   "id": "df13a771-0dc9-4bb4-8028-be941a7c14d0",
   "metadata": {},
   "outputs": [],
   "source": [
    "combination[\"cleaned tweet\"] = combination[\"cleaned tweet\"].apply(lambda tweet: \" \".join([word for word in tweet.split() if len(word) >=4]))"
   ]
  },
  {
   "cell_type": "code",
   "execution_count": 11,
   "id": "7d265e66-b4c5-48de-9843-80c06d3691a7",
   "metadata": {},
   "outputs": [
    {
     "data": {
      "text/html": [
       "<div>\n",
       "<style scoped>\n",
       "    .dataframe tbody tr th:only-of-type {\n",
       "        vertical-align: middle;\n",
       "    }\n",
       "\n",
       "    .dataframe tbody tr th {\n",
       "        vertical-align: top;\n",
       "    }\n",
       "\n",
       "    .dataframe thead th {\n",
       "        text-align: right;\n",
       "    }\n",
       "</style>\n",
       "<table border=\"1\" class=\"dataframe\">\n",
       "  <thead>\n",
       "    <tr style=\"text-align: right;\">\n",
       "      <th></th>\n",
       "      <th>id</th>\n",
       "      <th>label</th>\n",
       "      <th>tweet</th>\n",
       "      <th>cleaned tweet</th>\n",
       "    </tr>\n",
       "  </thead>\n",
       "  <tbody>\n",
       "    <tr>\n",
       "      <th>0</th>\n",
       "      <td>1</td>\n",
       "      <td>0.0</td>\n",
       "      <td>@user when a father is dysfunctional and is s...</td>\n",
       "      <td>when father dysfunctional selfish drags kids i...</td>\n",
       "    </tr>\n",
       "    <tr>\n",
       "      <th>1</th>\n",
       "      <td>2</td>\n",
       "      <td>0.0</td>\n",
       "      <td>@user @user thanks for #lyft credit i can't us...</td>\n",
       "      <td>thanks #lyft credit cause they offer wheelchai...</td>\n",
       "    </tr>\n",
       "    <tr>\n",
       "      <th>2</th>\n",
       "      <td>3</td>\n",
       "      <td>0.0</td>\n",
       "      <td>bihday your majesty</td>\n",
       "      <td>bihday your majesty</td>\n",
       "    </tr>\n",
       "    <tr>\n",
       "      <th>3</th>\n",
       "      <td>4</td>\n",
       "      <td>0.0</td>\n",
       "      <td>#model   i love u take with u all the time in ...</td>\n",
       "      <td>#model love take with time</td>\n",
       "    </tr>\n",
       "    <tr>\n",
       "      <th>4</th>\n",
       "      <td>5</td>\n",
       "      <td>0.0</td>\n",
       "      <td>factsguide: society now    #motivation</td>\n",
       "      <td>factsguide society #motivation</td>\n",
       "    </tr>\n",
       "  </tbody>\n",
       "</table>\n",
       "</div>"
      ],
      "text/plain": [
       "   id  label                                              tweet  \\\n",
       "0   1    0.0   @user when a father is dysfunctional and is s...   \n",
       "1   2    0.0  @user @user thanks for #lyft credit i can't us...   \n",
       "2   3    0.0                                bihday your majesty   \n",
       "3   4    0.0  #model   i love u take with u all the time in ...   \n",
       "4   5    0.0             factsguide: society now    #motivation   \n",
       "\n",
       "                                       cleaned tweet  \n",
       "0  when father dysfunctional selfish drags kids i...  \n",
       "1  thanks #lyft credit cause they offer wheelchai...  \n",
       "2                                bihday your majesty  \n",
       "3                         #model love take with time  \n",
       "4                     factsguide society #motivation  "
      ]
     },
     "execution_count": 11,
     "metadata": {},
     "output_type": "execute_result"
    }
   ],
   "source": [
    "combination.head()"
   ]
  },
  {
   "cell_type": "markdown",
   "id": "ab4ed592-63a6-4fb0-9621-b4f80d7c9a3a",
   "metadata": {},
   "source": [
    "After cleaning the tweets, now we tokenize them, by splitting each tweet, instead of being a string it becomes a list of words"
   ]
  },
  {
   "cell_type": "code",
   "execution_count": 12,
   "id": "9791961a-fe3b-46b5-9634-4de189ee2f80",
   "metadata": {},
   "outputs": [],
   "source": [
    "tokenized = combination[\"cleaned tweet\"].apply(lambda string: string.split()) "
   ]
  },
  {
   "cell_type": "code",
   "execution_count": 13,
   "id": "f85cd757-468f-44fa-93a4-09dde16de0c0",
   "metadata": {},
   "outputs": [
    {
     "data": {
      "text/plain": [
       "0    [when, father, dysfunctional, selfish, drags, ...\n",
       "1    [thanks, #lyft, credit, cause, they, offer, wh...\n",
       "2                              [bihday, your, majesty]\n",
       "3                     [#model, love, take, with, time]\n",
       "4                   [factsguide, society, #motivation]\n",
       "Name: cleaned tweet, dtype: object"
      ]
     },
     "execution_count": 13,
     "metadata": {},
     "output_type": "execute_result"
    }
   ],
   "source": [
    "tokenized.head()"
   ]
  },
  {
   "cell_type": "markdown",
   "id": "95e7cd3f-f05e-4fa4-b905-85030ba7fc2a",
   "metadata": {},
   "source": [
    "This function uses the nltk toolkit and uses the stemmer to stem each word.... stemming is removing the unneeded prefixes and suffixes, leaving only the root of the word. so playing, played, plays, all becomes play"
   ]
  },
  {
   "cell_type": "code",
   "execution_count": 14,
   "id": "cc2cda69-b96e-4794-9d67-70ffcea875cb",
   "metadata": {},
   "outputs": [],
   "source": [
    "stemmer = nltk.PorterStemmer()\n",
    "tokenized = tokenized.apply(lambda string: [stemmer.stem(word) for word in string])"
   ]
  },
  {
   "cell_type": "code",
   "execution_count": 15,
   "id": "4217acd5-8205-45a7-8bbf-24da62b2e470",
   "metadata": {},
   "outputs": [
    {
     "data": {
      "text/plain": [
       "0    [when, father, dysfunct, selfish, drag, kid, i...\n",
       "1    [thank, #lyft, credit, caus, they, offer, whee...\n",
       "2                              [bihday, your, majesti]\n",
       "3                     [#model, love, take, with, time]\n",
       "4                         [factsguid, societi, #motiv]\n",
       "Name: cleaned tweet, dtype: object"
      ]
     },
     "execution_count": 15,
     "metadata": {},
     "output_type": "execute_result"
    }
   ],
   "source": [
    "tokenized.head()"
   ]
  },
  {
   "cell_type": "markdown",
   "id": "12255c92-28c6-47fa-aba2-83fd109d5f58",
   "metadata": {},
   "source": [
    "This loop rejoins the cleaned tweets, reverting them back to strings instead of list of words"
   ]
  },
  {
   "cell_type": "code",
   "execution_count": 16,
   "id": "c6fad6b8-d7d0-4faf-81fb-8fcd3557b4d0",
   "metadata": {},
   "outputs": [],
   "source": [
    "for i in range(0,len(tokenized)):\n",
    "    tokenized[i] = \" \".join(tokenized[i])\n",
    "combination[\"cleaned tweet\"] = tokenized"
   ]
  },
  {
   "cell_type": "code",
   "execution_count": 17,
   "id": "633882a7-f24b-4692-afc5-72ccd7cbfbc1",
   "metadata": {},
   "outputs": [
    {
     "data": {
      "text/html": [
       "<div>\n",
       "<style scoped>\n",
       "    .dataframe tbody tr th:only-of-type {\n",
       "        vertical-align: middle;\n",
       "    }\n",
       "\n",
       "    .dataframe tbody tr th {\n",
       "        vertical-align: top;\n",
       "    }\n",
       "\n",
       "    .dataframe thead th {\n",
       "        text-align: right;\n",
       "    }\n",
       "</style>\n",
       "<table border=\"1\" class=\"dataframe\">\n",
       "  <thead>\n",
       "    <tr style=\"text-align: right;\">\n",
       "      <th></th>\n",
       "      <th>id</th>\n",
       "      <th>label</th>\n",
       "      <th>tweet</th>\n",
       "      <th>cleaned tweet</th>\n",
       "    </tr>\n",
       "  </thead>\n",
       "  <tbody>\n",
       "    <tr>\n",
       "      <th>0</th>\n",
       "      <td>1</td>\n",
       "      <td>0.0</td>\n",
       "      <td>@user when a father is dysfunctional and is s...</td>\n",
       "      <td>when father dysfunct selfish drag kid into dys...</td>\n",
       "    </tr>\n",
       "    <tr>\n",
       "      <th>1</th>\n",
       "      <td>2</td>\n",
       "      <td>0.0</td>\n",
       "      <td>@user @user thanks for #lyft credit i can't us...</td>\n",
       "      <td>thank #lyft credit caus they offer wheelchair ...</td>\n",
       "    </tr>\n",
       "    <tr>\n",
       "      <th>2</th>\n",
       "      <td>3</td>\n",
       "      <td>0.0</td>\n",
       "      <td>bihday your majesty</td>\n",
       "      <td>bihday your majesti</td>\n",
       "    </tr>\n",
       "    <tr>\n",
       "      <th>3</th>\n",
       "      <td>4</td>\n",
       "      <td>0.0</td>\n",
       "      <td>#model   i love u take with u all the time in ...</td>\n",
       "      <td>#model love take with time</td>\n",
       "    </tr>\n",
       "    <tr>\n",
       "      <th>4</th>\n",
       "      <td>5</td>\n",
       "      <td>0.0</td>\n",
       "      <td>factsguide: society now    #motivation</td>\n",
       "      <td>factsguid societi #motiv</td>\n",
       "    </tr>\n",
       "  </tbody>\n",
       "</table>\n",
       "</div>"
      ],
      "text/plain": [
       "   id  label                                              tweet  \\\n",
       "0   1    0.0   @user when a father is dysfunctional and is s...   \n",
       "1   2    0.0  @user @user thanks for #lyft credit i can't us...   \n",
       "2   3    0.0                                bihday your majesty   \n",
       "3   4    0.0  #model   i love u take with u all the time in ...   \n",
       "4   5    0.0             factsguide: society now    #motivation   \n",
       "\n",
       "                                       cleaned tweet  \n",
       "0  when father dysfunct selfish drag kid into dys...  \n",
       "1  thank #lyft credit caus they offer wheelchair ...  \n",
       "2                                bihday your majesti  \n",
       "3                         #model love take with time  \n",
       "4                           factsguid societi #motiv  "
      ]
     },
     "execution_count": 17,
     "metadata": {},
     "output_type": "execute_result"
    }
   ],
   "source": [
    "combination.head()\n"
   ]
  },
  {
   "cell_type": "markdown",
   "id": "09189411-c3b3-4ece-8346-5d27ef4c37f4",
   "metadata": {},
   "source": [
    "This function uses regular expressions to detect hashtags. hashtags are any word that starts with \"#\" symbol with letter after it\n",
    "NOTE that this regular expression uses $W^+$ instead of $W^*$ since we need to only collect hashtags, if the latter was used, the model will detect the string \"#\" as a hashtag even if it is not followed by any word"
   ]
  },
  {
   "cell_type": "code",
   "execution_count": 18,
   "id": "5c20c10d-b783-40ab-b966-a185b9c120e7",
   "metadata": {},
   "outputs": [],
   "source": [
    "def findhashtags(string):\n",
    "    hashtags = []\n",
    "    for word in string:\n",
    "        hashtag = re.findall(r\"#(\\w+)\", word)\n",
    "        hashtags.append(hashtag)\n",
    "    return hashtags"
   ]
  },
  {
   "cell_type": "markdown",
   "id": "cfc30cb9-d1ea-45cf-96cc-29028fd7b522",
   "metadata": {},
   "source": [
    "These two lines extract all the hashtags from the dataset, but they seperate them using the \"label\" field in the dataset, so we end up with the non-racist hashtags in a list and the racist hashtags in another list. so we can compare between them\n",
    "\n",
    "NOTE that we use the \"label\" field as a condition to include the row in our hashtags list. since the combination dataset includes both training set that has label and testing data that does not have label field. this condition will exclude the testing data from being included in these hashtags lists since they do not have a label field"
   ]
  },
  {
   "cell_type": "code",
   "execution_count": 19,
   "id": "f00c35d3-75b0-4cb1-8a5b-3b5efb0b2aa3",
   "metadata": {},
   "outputs": [],
   "source": [
    "non_racist_hashtags = findhashtags(combination[\"cleaned tweet\"][combination[\"label\"] == 0])\n",
    "racist_hashtags = findhashtags(combination[\"cleaned tweet\"][combination[\"label\"] == 1])\n",
    "\n",
    "non_racist_hashtags = sum(non_racist_hashtags,[])\n",
    "racist_hashtags = sum(racist_hashtags,[])"
   ]
  },
  {
   "cell_type": "markdown",
   "id": "aa60de5e-ec2f-4501-9dc6-ad9757eb929c",
   "metadata": {},
   "source": [
    "The following lines find the frequency of each hashtag in each set, then they plot them as a \"hashtag vs frequency\" bar graph"
   ]
  },
  {
   "cell_type": "code",
   "execution_count": 20,
   "id": "caf28122-7960-4c32-b192-5b19c5252c3f",
   "metadata": {},
   "outputs": [
    {
     "data": {
      "image/png": "[encoded data removed]",
      "text/plain": [
       "<Figure size 1152x288 with 2 Axes>"
      ]
     },
     "metadata": {
      "needs_background": "light"
     },
     "output_type": "display_data"
    }
   ],
   "source": [
    "a_racist = nltk.FreqDist(racist_hashtags)\n",
    "d_racist = pd.DataFrame(\n",
    "    {\n",
    "      'Hashtag': list(a_racist.keys()),\n",
    "     'Frequency': list(a_racist.values())}\n",
    "    )\n",
    "d_racist = d_racist.nlargest(columns=\"Frequency\", n=10)\n",
    "a_non_racist = nltk.FreqDist(non_racist_hashtags)\n",
    "d_non_racist = pd.DataFrame(\n",
    "    {\n",
    "      'Hashtag': list(a_non_racist.keys()),\n",
    "     'Frequency': list(a_non_racist.values())}\n",
    "    )\n",
    "d_non_racist = d_non_racist.nlargest(columns=\"Frequency\", n=10)\n",
    "# plt.figure(figsize=(16,5))\n",
    "fig, ax = plt.subplots(1,2, figsize = (16,4))\n",
    "sns.barplot(data=d_racist, x= \"Hashtag\", y=\"Frequency\",ax = ax[0])\n",
    "sns.barplot(data=d_non_racist, x= \"Hashtag\", y=\"Frequency\", ax = ax[1])\n",
    "ax[0].set_title('racist')\n",
    "ax[1].set_title('non_racist')\n",
    "plt.show()"
   ]
  },
  {
   "cell_type": "markdown",
   "id": "5c55077d-3c9e-4f00-a79a-7c7516ca2901",
   "metadata": {},
   "source": [
    "Now we start our ML model.\n",
    "The approach used is th bag of words (BOW)\n",
    "a simple explaination for since it's better explained with example\n",
    "if we have only two tweets:\n",
    "1- \"Hello my name is George\"\n",
    "2- \"I study computer science\"\n",
    "I'll pre process these 2 tweets, tokenized, stem and remove stopping words\n",
    "let's say that my BagOfWords (bow) for some tweets are [\"hello\",\"name\",\"George\",\"study\",\"computer\",\"science\"]\n",
    "now this makes my bag of words consist of 6 words\n",
    "I'll create 6 elements array for each tweet, where each index is the frequency of the word in this tweet\n",
    "so my bow list will be\n",
    "[\n",
    "[1,1,1,0,0,0] ,\n",
    "[0,0,0,1,1,1]\n",
    "]\n",
    "\n",
    "this is better for the ML to understand than strings"
   ]
  },
  {
   "cell_type": "markdown",
   "id": "4bd44ced-b355-4ec0-b9ac-6d8ccff5206c",
   "metadata": {},
   "source": [
    "The CountVectorizer from sklearn does this function of finding the bag of words and creating the arrays for each word"
   ]
  },
  {
   "cell_type": "code",
   "execution_count": 21,
   "id": "3a76c091-b231-4964-9d20-c9d87ed104ed",
   "metadata": {},
   "outputs": [],
   "source": [
    "from sklearn.feature_extraction.text import CountVectorizer\n",
    "bowVectorizer = CountVectorizer(max_df=0.90, min_df=2, max_features=1000, stop_words=\"english\")\n",
    "bow = bowVectorizer.fit_transform(combination['cleaned tweet'])"
   ]
  },
  {
   "cell_type": "markdown",
   "id": "e0b3cfa1-0fe9-4c4b-80bd-4ff2f8b2481b",
   "metadata": {},
   "source": [
    "Now we enter the machine learning model. our model will use logistic regression rather than linear regression. since logistic is better when deciding yes/no answers, while linear regression is better for finding numbers, such as age prediction, salary prediction"
   ]
  },
  {
   "cell_type": "markdown",
   "id": "34345d5a-abaf-4e30-8d8e-14de84e5b3d1",
   "metadata": {},
   "source": [
    "In the next block, we will initialize our logistic regression model, split our training data into train & test data, with a specific ratio\n",
    "we will then feed our model the training data, and let it train itself, then we give it the testing data that we splitted from the training dataset.\n",
    "since the model will give a judge between 0 and 1, including the decimals between, we decided to make it consider anything above 0.2 to be considered as hatespeech"
   ]
  },
  {
   "cell_type": "code",
   "execution_count": 22,
   "id": "1a5db6b7-82b7-441b-a7a0-ad52409a8efc",
   "metadata": {},
   "outputs": [
    {
     "data": {
      "text/plain": [
       "0.5663531870428422"
      ]
     },
     "execution_count": 22,
     "metadata": {},
     "output_type": "execute_result"
    }
   ],
   "source": [
    "from sklearn.linear_model import LogisticRegression\n",
    "from sklearn.model_selection import train_test_split\n",
    "from sklearn.metrics import f1_score\n",
    "\n",
    "train_bow = bow[:31962,:]\n",
    "test_bow = bow[31962:,:]\n",
    "\n",
    "# splitting data into training and testing sets, we used 80:20 ratio since it maximizes the accuracy of the model\n",
    "xtraining_data, xtesting_data, ytraining_data, ytesting_data = train_test_split(train_bow, train['label'], random_state=42, test_size=0.2)\n",
    "\n",
    "lreg = LogisticRegression() # initialize the model then feed it training data\n",
    "lreg.fit(xtraining_data, ytraining_data) \n",
    "# now we give it the testing data and\n",
    "# let it produce its predictions as probability between 0 and 1\n",
    "prediction = lreg.predict_proba(xtesting_data) \n",
    "prediction_int = prediction[:,1] >= 0.2\n",
    "prediction_int = prediction_int.astype(np.int)\n",
    "# f1-score is a metric that calculates how accurate the model is\n",
    "f1_score(ytesting_data, prediction_int) \n"
   ]
  },
  {
   "cell_type": "markdown",
   "id": "ef679219-688b-4aea-b1bb-cbda0b6ce18b",
   "metadata": {},
   "source": [
    "Now we save our predictions in a csv file\n",
    "where we will save the original tweet and the decision of our model"
   ]
  },
  {
   "cell_type": "code",
   "execution_count": 23,
   "id": "bb2a3c11-e91c-4903-bf12-71e9976e6279",
   "metadata": {},
   "outputs": [],
   "source": [
    "test_pred = lreg.predict_proba(test_bow)\n",
    "test_pred_int = test_pred[:,1] >= 0.3\n",
    "test_pred_int = test_pred_int.astype(np.int)\n",
    "test['label'] = test_pred_int\n",
    "submission = test[['tweet','label']]\n",
    "submission.to_csv('logistic_regression_results.csv', index=False)"
   ]
  },
  {
   "cell_type": "code",
   "execution_count": null,
   "id": "b7d896bb-2578-447e-993b-067452fcda21",
   "metadata": {},
   "outputs": [],
   "source": []
  }
 ],
 "metadata": {
  "kernelspec": {
   "display_name": "Python 3 (ipykernel)",
   "language": "python",
   "name": "python3"
  },
  "language_info": {
   "codemirror_mode": {
    "name": "ipython",
    "version": 3
   },
   "file_extension": ".py",
   "mimetype": "text/x-python",
   "name": "python",
   "nbconvert_exporter": "python",
   "pygments_lexer": "ipython3",
   "version": "3.9.7"
  }
 },
 "nbformat": 4,
 "nbformat_minor": 5
}
